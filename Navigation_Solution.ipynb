{
 "cells": [
  {
   "cell_type": "markdown",
   "metadata": {},
   "source": [
    "# Banana Navigation Solution"
   ]
  },
  {
   "cell_type": "markdown",
   "metadata": {},
   "source": [
    "## 1. Set up the environment"
   ]
  },
  {
   "cell_type": "code",
   "execution_count": 1,
   "metadata": {},
   "outputs": [],
   "source": [
    "from agent import Agent\n",
    "\n",
    "from collections import deque\n",
    "import matplotlib.pyplot as plt\n",
    "import numpy as np\n",
    "import pandas as pd\n",
    "import torch\n",
    "from unityagents import UnityEnvironment"
   ]
  },
  {
   "cell_type": "markdown",
   "metadata": {},
   "source": [
    "We start by starting the environment. The exact path and file we need to run will vary. Adjust the next cell accordingly.\n",
    "\n",
    "- **Mac**: `\"path/to/Banana.app\"`\n",
    "- **Windows** (x86): `\"path/to/Banana_Windows_x86/Banana.exe\"`\n",
    "- **Windows** (x86_64): `\"path/to/Banana_Windows_x86_64/Banana.exe\"`\n",
    "- **Linux** (x86): `\"path/to/Banana_Linux/Banana.x86\"`\n",
    "- **Linux** (x86_64): `\"path/to/Banana_Linux/Banana.x86_64\"`\n",
    "- **Linux** (x86, headless): `\"path/to/Banana_Linux_NoVis/Banana.x86\"`\n",
    "- **Linux** (x86_64, headless): `\"path/to/Banana_Linux_NoVis/Banana.x86_64\"`\n",
    "\n",
    "For instance, if you are using a Mac, then you downloaded `Banana.app`.  If this file is in the same folder as the notebook, then the line below should appear as follows:"
   ]
  },
  {
   "cell_type": "code",
   "execution_count": 2,
   "metadata": {},
   "outputs": [
    {
     "name": "stderr",
     "output_type": "stream",
     "text": [
      "INFO:unityagents:\n",
      "'Academy' started successfully!\n",
      "Unity Academy name: Academy\n",
      "        Number of Brains: 1\n",
      "        Number of External Brains : 1\n",
      "        Lesson number : 0\n",
      "        Reset Parameters :\n",
      "\t\t\n",
      "Unity brain name: BananaBrain\n",
      "        Number of Visual Observations (per agent): 0\n",
      "        Vector Observation space type: continuous\n",
      "        Vector Observation space size (per agent): 37\n",
      "        Number of stacked Vector Observation: 1\n",
      "        Vector Action space type: discrete\n",
      "        Vector Action space size (per agent): 4\n",
      "        Vector Action descriptions: , , , \n"
     ]
    }
   ],
   "source": [
    "env = UnityEnvironment(file_name=\"Banana.app\")"
   ]
  },
  {
   "cell_type": "markdown",
   "metadata": {},
   "source": [
    "Environments contain **_brains_** which are responsible for deciding the actions of their associated agents. Here we check for the first brain available, and set it as the default brain we will be controlling from Python."
   ]
  },
  {
   "cell_type": "code",
   "execution_count": 3,
   "metadata": {},
   "outputs": [],
   "source": [
    "# get the default brain\n",
    "brain_name = env.brain_names[0]\n",
    "brain = env.brains[brain_name]"
   ]
  },
  {
   "cell_type": "markdown",
   "metadata": {},
   "source": [
    "The code cell below prints basic information about the environment."
   ]
  },
  {
   "cell_type": "code",
   "execution_count": 4,
   "metadata": {},
   "outputs": [
    {
     "name": "stdout",
     "output_type": "stream",
     "text": [
      "Number of agents: 1\n",
      "Number of actions: 4\n",
      "States look like: [1.         0.         0.         0.         0.84408134 0.\n",
      " 0.         1.         0.         0.0748472  0.         1.\n",
      " 0.         0.         0.25755    1.         0.         0.\n",
      " 0.         0.74177343 0.         1.         0.         0.\n",
      " 0.25854847 0.         0.         1.         0.         0.09355672\n",
      " 0.         1.         0.         0.         0.31969345 0.\n",
      " 0.        ]\n",
      "States have length: 37\n"
     ]
    }
   ],
   "source": [
    "# reset the environment\n",
    "env_info = env.reset(train_mode=True)[brain_name]\n",
    "\n",
    "# number of agents in the environment\n",
    "print('Number of agents:', len(env_info.agents))\n",
    "\n",
    "# number of actions\n",
    "action_size = brain.vector_action_space_size\n",
    "print('Number of actions:', action_size)\n",
    "\n",
    "# examine the state space \n",
    "state = env_info.vector_observations[0]\n",
    "print('States look like:', state)\n",
    "state_size = len(state)\n",
    "print('States have length:', state_size)"
   ]
  },
  {
   "cell_type": "markdown",
   "metadata": {},
   "source": [
    "## 2. Train the agent using a DQN"
   ]
  },
  {
   "cell_type": "code",
   "execution_count": 6,
   "metadata": {},
   "outputs": [
    {
     "name": "stdout",
     "output_type": "stream",
     "text": [
      "Episode 100\tAverage Score: 0.12\n",
      "Episode 200\tAverage Score: 2.37\n",
      "Episode 300\tAverage Score: 7.25\n",
      "Episode 400\tAverage Score: 9.29\n",
      "Episode 500\tAverage Score: 11.99\n",
      "Episode 561\tAverage Score: 13.00\n",
      "Environment solved in 461 episodes!\tAverage Score: 13.00\n"
     ]
    },
    {
     "data": {
      "image/png": "[encoded data removed]",
      "text/plain": [
       "<Figure size 432x288 with 1 Axes>"
      ]
     },
     "metadata": {
      "needs_background": "light"
     },
     "output_type": "display_data"
    }
   ],
   "source": [
    "agent = Agent(state_size=state_size, action_size=action_size, seed=666)\n",
    "\n",
    "def dqn(n_episodes=2000, max_t=1000, eps_start=1.0, eps_end=0.01, eps_decay=0.995,\n",
    "        beta_start=0.1, beta_end=1.0, beta_ascend=0.99):\n",
    "    \"\"\"Deep Q-Learning.\n",
    "    \n",
    "    Params\n",
    "    ======\n",
    "        n_episodes (int): maximum number of training episodes\n",
    "        max_t (int): maximum number of timesteps per episode\n",
    "        eps_start (float): starting value of epsilon, for epsilon-greedy action selection\n",
    "        eps_end (float): minimum value of epsilon\n",
    "        eps_decay (float): multiplicative factor (per episode) for decreasing epsilon\n",
    "        beta_start (float): starting value for the power factor used for importance weights\n",
    "        beta_end (float): maximum value for the power factor\n",
    "        beta_ascend (float): multiplicative factor (per episode) for increasing beta\n",
    "    \"\"\"\n",
    "    scores = []                                                  # list containing scores from each episode\n",
    "    scores_window = deque(maxlen=100)                            # last 100 scores\n",
    "    eps = eps_start                                              # initialize epsilon\n",
    "    beta = beta_start                                            # initialize beta\n",
    "    for i_episode in range(1, n_episodes + 1):\n",
    "        env_info = env.reset(train_mode=True)[brain_name]        # reset the environment\n",
    "        state = env_info.vector_observations[0]                  # get the initial state\n",
    "        score = 0                                                # initialize the score\n",
    "        for t in range(max_t):                                   # loop over steps in an episode\n",
    "            action = agent.act(state, eps)                       # select an action\n",
    "            env_info = env.step(action)[brain_name]              # send the action to the environment\n",
    "            next_state = env_info.vector_observations[0]         # get the next state\n",
    "            reward = env_info.rewards[0]                         # get the reward\n",
    "            done = env_info.local_done[0]                        # see if episode has finished\n",
    "            agent.step(state, action, reward, next_state, done,  # next agent step\n",
    "                       beta)  \n",
    "            score += reward                                      # update the score\n",
    "            state = next_state                                   # roll over the state to next time step\n",
    "            if done:                                             # end of the episode\n",
    "                break \n",
    "        scores_window.append(score)                              # save most recent score\n",
    "        scores.append(score)                                     # save most recent score\n",
    "        eps = max(eps_end, eps_decay * eps)                      # decrease epsilon\n",
    "        beta = min(beta_end, beta / beta_ascend)                 # increase beta\n",
    "        print('\\rEpisode {}\\tAverage Score: {:.2f}'.format(i_episode, np.mean(scores_window)), end='')\n",
    "        if i_episode % 100 == 0:\n",
    "            print('\\rEpisode {}\\tAverage Score: {:.2f}'.format(i_episode, np.mean(scores_window)))\n",
    "        if np.mean(scores_window) >= 13.0:\n",
    "            print('\\nEnvironment solved in {:d} episodes!\\tAverage Score: {:.2f}'.format(i_episode - 100,\n",
    "                                                                                         np.mean(scores_window)))\n",
    "            torch.save(agent.qnetwork_local.state_dict(), 'checkpoint.pth')\n",
    "            break\n",
    "    return scores\n",
    "\n",
    "# get the scores\n",
    "scores = dqn()\n",
    "\n",
    "# plot the scores\n",
    "scores_df = pd.DataFrame({'scores': scores})\n",
    "scores_df['rolling_avg_score'] = scores_df.scores.rolling(100).mean()\n",
    "\n",
    "fig = plt.figure()\n",
    "ax = fig.add_subplot(111)\n",
    "plt.plot(scores_df.index, scores_df['scores'])\n",
    "plt.plot(scores_df.index, scores_df['rolling_avg_score'])\n",
    "ax.legend(['Score', 'Rolling avg. score for 100 episodes'])\n",
    "plt.ylabel('Score')\n",
    "plt.xlabel('Episode #')\n",
    "fig.patch.set_facecolor('lightgrey')\n",
    "plt.show()"
   ]
  },
  {
   "cell_type": "markdown",
   "metadata": {},
   "source": [
    "## 3. Observe a trained agent"
   ]
  },
  {
   "cell_type": "code",
   "execution_count": 13,
   "metadata": {},
   "outputs": [
    {
     "name": "stdout",
     "output_type": "stream",
     "text": [
      "Episode 1\tAverage Score: 13.00\n",
      "Episode 2\tAverage Score: 14.00\n",
      "Episode 3\tAverage Score: 19.00\n",
      "Episode 4\tAverage Score: 18.00\n",
      "Episode 5\tAverage Score: 20.00\n"
     ]
    }
   ],
   "source": [
    "# initialize the agent\n",
    "agent = Agent(state_size=state_size, action_size=action_size, seed=0)\n",
    "\n",
    "# load trained agent weights\n",
    "agent.qnetwork_local.load_state_dict(torch.load('checkpoint.pth'))\n",
    "\n",
    "n_episodes = 5\n",
    "scores = []\n",
    "for i_episode in range(n_episodes):\n",
    "    env_info = env.reset(train_mode=False)[brain_name]   # reset the environment\n",
    "    state = env_info.vector_observations[0]              # get the current state\n",
    "    score = 0                                            # initialize the score\n",
    "    while True:\n",
    "        action = agent.act(state, eps=0)                 # select an action\n",
    "        env_info = env.step(action)[brain_name]          # send the action to the environment\n",
    "        next_state = env_info.vector_observations[0]     # get the next state\n",
    "        reward = env_info.rewards[0]                     # get the reward\n",
    "        done = env_info.local_done[0]                    # see if episode has finished\n",
    "        score += reward                                  # update the score\n",
    "        state = next_state                               # roll over the state to next time step\n",
    "        if done:                                         # exit loop if episode finished\n",
    "            print('\\rEpisode {}\\tAverage Score: {:.2f}'.format(i_episode + 1, score))\n",
    "            scores.append(score)\n",
    "            break"
   ]
  },
  {
   "cell_type": "code",
   "execution_count": 14,
   "metadata": {},
   "outputs": [],
   "source": [
    "env.close()"
   ]
  }
 ],
 "metadata": {
  "kernelspec": {
   "display_name": "drlnd",
   "language": "python",
   "name": "drlnd"
  },
  "language_info": {
   "codemirror_mode": {
    "name": "ipython",
    "version": 3
   },
   "file_extension": ".py",
   "mimetype": "text/x-python",
   "name": "python",
   "nbconvert_exporter": "python",
   "pygments_lexer": "ipython3",
   "version": "3.6.13"
  }
 },
 "nbformat": 4,
 "nbformat_minor": 2
}
